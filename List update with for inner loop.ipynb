{
 "cells": [
  {
   "cell_type": "code",
   "execution_count": 1,
   "id": "36141043",
   "metadata": {},
   "outputs": [
    {
     "name": "stdout",
     "output_type": "stream",
     "text": [
      "['apple', 'boy', 'cat', 'lion']\n"
     ]
    }
   ],
   "source": [
    "input_list = ['1aGpple', '2Uboy', '3cat4', '5li3on3']    # Question task\n",
    "import re       # importing regular expression package to perform task of removing upper case and numeric from input_list\n",
    "\n",
    "output_list = []     # creating empty list \n",
    "for words in input_list:     #   for inner loop for greeting one word at a time\n",
    "    a = re.sub(r'[A-Z0-9]+','',words)      # substituing upper case and number from our input list\n",
    "    output_list.append(a)          # appending our empty list with the substituted values\n",
    "print(output_list)                 # obtaining our final output list - created by removing upper case and numeric values"
   ]
  },
  {
   "cell_type": "code",
   "execution_count": null,
   "id": "02fbbe29",
   "metadata": {},
   "outputs": [],
   "source": []
  }
 ],
 "metadata": {
  "kernelspec": {
   "display_name": "Python 3 (ipykernel)",
   "language": "python",
   "name": "python3"
  },
  "language_info": {
   "codemirror_mode": {
    "name": "ipython",
    "version": 3
   },
   "file_extension": ".py",
   "mimetype": "text/x-python",
   "name": "python",
   "nbconvert_exporter": "python",
   "pygments_lexer": "ipython3",
   "version": "3.10.5"
  }
 },
 "nbformat": 4,
 "nbformat_minor": 5
}
